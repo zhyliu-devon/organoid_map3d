{
 "cells": [
  {
   "cell_type": "code",
   "execution_count": 1,
   "metadata": {},
   "outputs": [
    {
     "name": "stdout",
     "output_type": "stream",
     "text": [
      "The isochronal map here can be reproduced in the example 3DVectorVisualization\n"
     ]
    }
   ],
   "source": [
    "print(\"The isochronal map here can be reproduced in the example 3DVectorVisualization\")"
   ]
  },
  {
   "cell_type": "code",
   "execution_count": 2,
   "metadata": {},
   "outputs": [],
   "source": [
    "\n",
    "\n",
    "import sys\n",
    "import os\n",
    "sys.path.append(os.path.abspath(\"../\"))\n",
    "from electrophysiology_mapping.map import *\n",
    "import numpy as np\n"
   ]
  },
  {
   "cell_type": "code",
   "execution_count": 3,
   "metadata": {},
   "outputs": [
    {
     "name": "stdout",
     "output_type": "stream",
     "text": [
      "Define Fitting Functions\n"
     ]
    }
   ],
   "source": [
    "print(\"Define Fitting Functions\")\n",
    "\n",
    "def setup_scene_and_capture(points, us, vs, scale=0.04,rotate_x = 0, \n",
    "                            rotate_y = 0, rotate_z = 200, radius=0.8, \n",
    "                            max_cv=None, min_cv=None, texture_file=\"contour.png\",\n",
    "                            save_dir = \"vector_on_sphere\"\n",
    "                            ):\n",
    "    \"\"\"Sets up the renderer, renders the window with arrows, rotates, captures screenshots, and saves them to a folder.\"\"\"\n",
    "    # Create renderer and render window\n",
    "    renderer = vtk.vtkRenderer()\n",
    "    render_window = vtk.vtkRenderWindow()\n",
    "    render_window.SetSize(1200, 1200)  # Larger window size\n",
    "    render_window.AddRenderer(renderer)\n",
    "    renderer.SetBackgroundAlpha(0)  \n",
    "    renderer.SetBackground(1, 1, 1)  # Set the background to white\n",
    "    render_window_interactor = vtk.vtkRenderWindowInteractor()\n",
    "    render_window_interactor.SetRenderWindow(render_window)\n",
    "    render_window.SetAlphaBitPlanes(1)  # Enable alpha channel\n",
    "    render_window.SetMultiSamples(0)   # Disable multi-sampling for better transparency\n",
    "\n",
    "\n",
    "    # Setup camera\n",
    "    camera = renderer.GetActiveCamera()\n",
    "    camera.ParallelProjectionOn()\n",
    "    camera.SetPosition(0, 0, 10)  # Observe from bottom\n",
    "    camera.SetFocalPoint(0, 0, 0)  # Look at the center of the sphere\n",
    "    camera.SetViewUp(0, 1, 0)     # Set the upward direction\n",
    "    renderer.AutomaticLightCreationOff()\n",
    "    renderer.UseShadowsOff()\n",
    "    renderer.SetAmbient(1.0, 1.0, 1.0)\n",
    "    # Render objects\n",
    "    create_sphere(renderer, radius=radius, resolution=100, rotate_x=rotate_x, rotate_y=rotate_y, rotate_z=rotate_z, texture_file=texture_file)\n",
    "    for idx, (lon, lat) in enumerate(points):\n",
    "        position = lat_lon_to_cartesian(lat, lon, radius)\n",
    "        north = north_vector(lat, lon, radius)\n",
    "        east = east_vector(position, north)\n",
    "        direction = us[idx] * east + vs[idx] * north\n",
    "        amplitude = np.sqrt(np.sum(us[idx]**2 + vs[idx]**2))\n",
    "        normalized_intensity = (amplitude - min_cv) / (max_cv - min_cv) if max_cv and min_cv else (amplitude - 10) / (90)\n",
    "        normalized_intensity = np.clip(normalized_intensity, 0, 1)\n",
    "        color = jet_colormap(normalized_intensity)\n",
    "        direction = direction / np.linalg.norm(direction)\n",
    "        add_arrow(renderer, position, direction, scale * np.log(np.log(amplitude) + 5), color)\n",
    "\n",
    "    # Create directory if it doesn't exist\n",
    "    directory = save_dir\n",
    "    if not os.path.exists(directory):\n",
    "        os.makedirs(directory)\n",
    "\n",
    "    # Initialize Window to Image Filter\n",
    "    w2if = vtk.vtkWindowToImageFilter()\n",
    "    w2if.SetInput(render_window)\n",
    "    w2if.SetScale(1)  # Image quality\n",
    "    w2if.SetInputBufferTypeToRGBA()\n",
    "    w2if.ReadFrontBufferOff()\n",
    "    \n",
    "    # Initialize the writer\n",
    "    writer = vtk.vtkPNGWriter()\n",
    "\n",
    "    # Rotate and capture images\n",
    "    for i in range(36):  # 360 degrees in steps of 10 degrees\n",
    "        camera.Azimuth(10)  # Rotate camera\n",
    "        render_window.Render()  # Render the scene\n",
    "        w2if.Modified()  # Update the filter to reflect new scene\n",
    "        w2if.Update()  # Ensure the filter processes the latest image\n",
    "        writer.SetInputConnection(w2if.GetOutputPort())\n",
    "        writer.SetFileName(f\"{directory}/screenshot_{i}.png\")\n",
    "        writer.Write()\n",
    "\n",
    "    render_window_interactor.Start()\n",
    "\n",
    "\n"
   ]
  },
  {
   "cell_type": "code",
   "execution_count": 4,
   "metadata": {},
   "outputs": [],
   "source": [
    "setup_scene_and_capture([],[],[],\n",
    "                  scale = 0.04, rotate_x= 0, rotate_y= 0, rotate_z = 200\n",
    "                  , radius= 0.8, min_cv=1, max_cv=10,texture_file=\"isochronalMap.png\",\n",
    "                  save_dir= \"2DMapping\")"
   ]
  },
  {
   "cell_type": "code",
   "execution_count": 5,
   "metadata": {},
   "outputs": [],
   "source": [
    "setup_scene_and_capture([],[],[],\n",
    "                  scale = 0.04, rotate_x= 0, rotate_y= 0, rotate_z = 200\n",
    "                  , radius= 0.8, min_cv=1, max_cv=10,texture_file=\"random_map_with_electrode.png\",\n",
    "                  save_dir=\"2DMappingWithElectrodePosition\")\n"
   ]
  },
  {
   "cell_type": "code",
   "execution_count": null,
   "metadata": {},
   "outputs": [],
   "source": []
  },
  {
   "cell_type": "code",
   "execution_count": null,
   "metadata": {},
   "outputs": [],
   "source": []
  },
  {
   "cell_type": "code",
   "execution_count": null,
   "metadata": {},
   "outputs": [],
   "source": []
  }
 ],
 "metadata": {
  "kernelspec": {
   "display_name": "Python 3",
   "language": "python",
   "name": "python3"
  },
  "language_info": {
   "codemirror_mode": {
    "name": "ipython",
    "version": 3
   },
   "file_extension": ".py",
   "mimetype": "text/x-python",
   "name": "python",
   "nbconvert_exporter": "python",
   "pygments_lexer": "ipython3",
   "version": "3.9.15"
  }
 },
 "nbformat": 4,
 "nbformat_minor": 2
}
