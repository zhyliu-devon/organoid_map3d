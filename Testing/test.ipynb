{
 "cells": [
  {
   "cell_type": "code",
   "execution_count": 2,
   "metadata": {},
   "outputs": [
    {
     "ename": "ModuleNotFoundError",
     "evalue": "No module named 'organoidContour'",
     "output_type": "error",
     "traceback": [
      "\u001b[1;31m---------------------------------------------------------------------------\u001b[0m",
      "\u001b[1;31mModuleNotFoundError\u001b[0m                       Traceback (most recent call last)",
      "Cell \u001b[1;32mIn[2], line 5\u001b[0m\n\u001b[0;32m      3\u001b[0m \u001b[38;5;66;03m# Access to the package\u001b[39;00m\n\u001b[0;32m      4\u001b[0m sys\u001b[38;5;241m.\u001b[39mpath\u001b[38;5;241m.\u001b[39mappend(os\u001b[38;5;241m.\u001b[39mpath\u001b[38;5;241m.\u001b[39mabspath(\u001b[38;5;124m\"\u001b[39m\u001b[38;5;124m../\u001b[39m\u001b[38;5;124m\"\u001b[39m))\n\u001b[1;32m----> 5\u001b[0m \u001b[38;5;28;01mfrom\u001b[39;00m \u001b[38;5;21;01morganoidContour\u001b[39;00m \u001b[38;5;28;01mimport\u001b[39;00m preprocessing\n\u001b[0;32m      6\u001b[0m \u001b[38;5;28;01mimport\u001b[39;00m \u001b[38;5;21;01mnumpy\u001b[39;00m \u001b[38;5;28;01mas\u001b[39;00m \u001b[38;5;21;01mnp\u001b[39;00m\n\u001b[0;32m      7\u001b[0m sampling_rate \u001b[38;5;241m=\u001b[39m \u001b[38;5;241m10000\u001b[39m\n",
      "\u001b[1;31mModuleNotFoundError\u001b[0m: No module named 'organoidContour'"
     ]
    }
   ],
   "source": [
    "import sys\n",
    "import os\n",
    "# Access to the package\n",
    "sys.path.append(os.path.abspath(\"../\"))\n",
    "from organoidContour import preprocessing\n",
    "import numpy as np\n",
    "sampling_rate = 10000\n",
    "use_raw_data = 0\n",
    "cutoff_frequency = 1000\n",
    "# Replace with your data location\n",
    "data_path = \"E:\\Desktop\\omipolar\\DataPlotting\\JKCO\\JK CO6 day after calcium imaging_240522_123941\\JK CO6 day after calcium imaging_240522_125041.rhs\"\n",
    "# Indicies of the channel with visible spikes\n",
    "target_indeces = [0,1,2,3,4, 5,6,7,8,9,10,11, 12,13, 14, 15]\n",
    "processed_data = preprocessing.processingPipline(data_path, data_path, cutoff=cutoff_frequency,fs_new= sampling_rate, one_address= 1)\n",
    "#raw_data = preprocessing.extract_raw_data(data_path, data_path)\n",
    "available_data = processed_data#[wanted_channel]\n",
    "\n",
    "if use_raw_data:\n",
    "    raw_data = preprocessing.extract_raw_data(data_path, data_path)\n",
    "    available_data = raw_data[:,1800000:];sampling_rate = 30000\n",
    "\n",
    "\n",
    "\n",
    "target_data = available_data[target_indeces]\n",
    "target_data_copy = target_data.copy()\n",
    "\n",
    "import matplotlib.pyplot as plt\n",
    "plt.plot(available_data[0,24*sampling_rate:36*sampling_rate])"
   ]
  },
  {
   "cell_type": "code",
   "execution_count": null,
   "metadata": {},
   "outputs": [],
   "source": []
  }
 ],
 "metadata": {
  "kernelspec": {
   "display_name": "Python 3",
   "language": "python",
   "name": "python3"
  },
  "language_info": {
   "codemirror_mode": {
    "name": "ipython",
    "version": 3
   },
   "file_extension": ".py",
   "mimetype": "text/x-python",
   "name": "python",
   "nbconvert_exporter": "python",
   "pygments_lexer": "ipython3",
   "version": "3.9.15"
  }
 },
 "nbformat": 4,
 "nbformat_minor": 2
}
