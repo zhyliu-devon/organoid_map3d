{
 "cells": [
  {
   "cell_type": "markdown",
   "metadata": {},
   "source": [
    "# SNR Analysis Documentation\n",
    "\n",
    "## Run SNRSelectionExample.py\n",
    "\n",
    "\n",
    "## Usage Instructions (Optional, already selected.)\n",
    "\n",
    "* Click points to select segments of interest\n",
    "* Press `Backspace` to undo last selection\n",
    "* Press `Enter` to move to next window\n",
    "* Click outside plot area to cancel selection\n",
    "\n",
    "## Core Mathematics\n",
    "\n",
    "### SNR Calculation\n",
    "For each channel:\n",
    "\n",
    "Signal-to-Noise Ratio:\n",
    "$$SNR = \\frac{A_{signal}}{\\sigma_{noise}}$$\n",
    "\n",
    "where:\n",
    "- $A_{signal} = max(signal) - min(signal)$\n",
    "- $\\sigma_{noise}$ = standard deviation of noise segments\n",
    "\n",
    "### Window Parameters\n",
    "- Time window: $[t - w_{before}, t + w_{after}]$\n",
    "- Default values: $w_{before} = 0.15s$, $w_{after} = 0.35s$\n",
    "- Sampling rate: $f_s = 10000$ Hz\n",
    "\n",
    "### Signal Processing\n",
    "- Cutoff frequency: $f_c = 1000$ Hz\n",
    "- Window size in samples: $N = (w_{before} + w_{after}) \\cdot f_s$\n",
    "\n",
    "## Output\n",
    "- SNR values per channel\n",
    "- Bar plot of SNR distribution\n",
    "- Signal plot with highlighted segments\n",
    "- Excel file with SNR results"
   ]
  },
  {
   "cell_type": "markdown",
   "metadata": {},
   "source": []
  }
 ],
 "metadata": {
  "language_info": {
   "name": "python"
  }
 },
 "nbformat": 4,
 "nbformat_minor": 2
}
